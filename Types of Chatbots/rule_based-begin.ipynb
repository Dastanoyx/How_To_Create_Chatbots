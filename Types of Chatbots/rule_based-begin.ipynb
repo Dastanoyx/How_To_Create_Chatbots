{
 "cells": [
  {
   "cell_type": "code",
   "execution_count": 2,
   "id": "b5d83f5a",
   "metadata": {},
   "outputs": [],
   "source": [
    "##Building a ruel-based Chatbot!"
   ]
  },
  {
   "cell_type": "code",
   "execution_count": 5,
   "id": "ffd700d7",
   "metadata": {},
   "outputs": [],
   "source": [
    "import nltk\n",
    "from nltk.chat.util import Chat, reflections"
   ]
  },
  {
   "cell_type": "code",
   "execution_count": 6,
   "id": "226cfb4c",
   "metadata": {},
   "outputs": [
    {
     "name": "stdout",
     "output_type": "stream",
     "text": [
      "<class 'nltk.chat.util.Chat'>\n"
     ]
    }
   ],
   "source": [
    "print(Chat)"
   ]
  },
  {
   "cell_type": "code",
   "execution_count": 8,
   "id": "fe27459a",
   "metadata": {},
   "outputs": [
    {
     "data": {
      "text/plain": [
       "{'i am': 'you are',\n",
       " 'i was': 'you were',\n",
       " 'i': 'you',\n",
       " \"i'm\": 'you are',\n",
       " \"i'd\": 'you would',\n",
       " \"i've\": 'you have',\n",
       " \"i'll\": 'you will',\n",
       " 'my': 'your',\n",
       " 'you are': 'I am',\n",
       " 'you were': 'I was',\n",
       " \"you've\": 'I have',\n",
       " \"you'll\": 'I will',\n",
       " 'your': 'my',\n",
       " 'yours': 'mine',\n",
       " 'you': 'me',\n",
       " 'me': 'you'}"
      ]
     },
     "execution_count": 8,
     "metadata": {},
     "output_type": "execute_result"
    }
   ],
   "source": [
    "reflections"
   ]
  },
  {
   "cell_type": "code",
   "execution_count": 13,
   "id": "fb903d38",
   "metadata": {},
   "outputs": [],
   "source": [
    "set_pairs = [\n",
    "    [\n",
    "        r\"my name is (.*)\",\n",
    "        [\"Hello %1, How are you today?\",]\n",
    "    ],\n",
    "    [\n",
    "        r\"hi|hey|hello\",\n",
    "        [\"Hello\", \"Hey there\",]\n",
    "    ]\n",
    "    ,\n",
    "    [\n",
    "        r\"what is your name\",\n",
    "        [\"You can call me a chatbot ?\",]\n",
    "    ],\n",
    "    [\n",
    "        r\"how are you ?\",\n",
    "        [\"I am fine , thank you! How can i help you?\",]\n",
    "    ],\n",
    "    [\n",
    "        r\"how can i help you?\",\n",
    "        [\"I am fine, thank you! How can i help you?\",]\n",
    "    ],\n",
    "    [\n",
    "        r\"I am fine, thank you\",\n",
    "        [\"Great to hear that , how can i help you?\",]\n",
    "    ],\n",
    "    [\n",
    "        r\"how can i help you?\",\n",
    "        [\"i am looking for online guides and courses to learn data science, can you suggest me?\",]\n",
    "    ],\n",
    "    [\n",
    "        r\"i'm (.*) doing good\",\n",
    "        [\"That's great to hear\",\"How can i help you?:)\",]\n",
    "    ],\n",
    "    [\n",
    "        r\"I am looking for online guides and courses to learn data science, can you suggest me?\",\n",
    "        [\"Coding Yassin is a great option to learn data science. You can check their website\",]\n",
    "    ],\n",
    "    [\n",
    "        r\"thanks for for the suggestion. do they have great authors and instructors?\",\n",
    "        [\"Yes, they have the world class best authors, that is their strength;)\",]\n",
    "    ],\n",
    "    [\n",
    "        r\"(.*) thank you so much, that was helpful\",\n",
    "        [\"Iam happy to help\", \"No problem, you're welcome\",]\n",
    "    ],\n",
    "    [\n",
    "        r\"quit\",\n",
    "        [\"Bye, take care. See you soon :) \",\"It was nice talking to you. See you soon :)\"]\n",
    "],   \n",
    "]"
   ]
  },
  {
   "cell_type": "code",
   "execution_count": 14,
   "id": "356cbe94",
   "metadata": {},
   "outputs": [
    {
     "name": "stdout",
     "output_type": "stream",
     "text": [
      "Hi I am a ruel-based chatbot! What can i help you with?\n"
     ]
    }
   ],
   "source": [
    "def chatbot():\n",
    "    print(\"Hi I am a ruel-based chatbot! What can i help you with?\")\n",
    "    \n",
    "chatbot()"
   ]
  },
  {
   "cell_type": "code",
   "execution_count": 15,
   "id": "2ffd3015",
   "metadata": {},
   "outputs": [
    {
     "name": "stdout",
     "output_type": "stream",
     "text": [
      "<nltk.chat.util.Chat object at 0x000001BA3078D6D0>\n"
     ]
    }
   ],
   "source": [
    "chat = Chat(set_pairs, reflections)\n",
    "print(chat)"
   ]
  },
  {
   "cell_type": "code",
   "execution_count": 16,
   "id": "dcf1e88f",
   "metadata": {},
   "outputs": [
    {
     "name": "stdout",
     "output_type": "stream",
     "text": [
      ">hi\n",
      "Hello\n",
      ">my name is Yassin Ghariani\n",
      "Hello yassin ghariani, How are you today?\n",
      ">I am looking for a course\n",
      "None\n",
      ">I am looking for online guides and courses to learn data science, can you suggest me?\n",
      "Coding Yassin is a great option to learn data science. You can check their website\n",
      ">quit\n",
      "It was nice talking to you. See you soon :)\n",
      "Hi I am a ruel-based chatbot! What can i help you with?\n"
     ]
    }
   ],
   "source": [
    "chat.converse()\n",
    "if __name__ == \"__main__\":\n",
    "    chatbot()"
   ]
  },
  {
   "cell_type": "code",
   "execution_count": null,
   "id": "617f80af",
   "metadata": {},
   "outputs": [],
   "source": []
  }
 ],
 "metadata": {
  "kernelspec": {
   "display_name": "Python 3 (ipykernel)",
   "language": "python",
   "name": "python3"
  },
  "language_info": {
   "codemirror_mode": {
    "name": "ipython",
    "version": 3
   },
   "file_extension": ".py",
   "mimetype": "text/x-python",
   "name": "python",
   "nbconvert_exporter": "python",
   "pygments_lexer": "ipython3",
   "version": "3.9.7"
  }
 },
 "nbformat": 4,
 "nbformat_minor": 5
}
